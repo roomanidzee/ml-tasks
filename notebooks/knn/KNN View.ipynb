{
 "cells": [
  {
   "cell_type": "code",
   "execution_count": 1,
   "metadata": {},
   "outputs": [],
   "source": [
    "%load_ext autoreload"
   ]
  },
  {
   "cell_type": "code",
   "execution_count": 2,
   "metadata": {},
   "outputs": [],
   "source": [
    "%autoreload 2"
   ]
  },
  {
   "cell_type": "code",
   "execution_count": 3,
   "metadata": {},
   "outputs": [],
   "source": [
    "import sys\n",
    "sys.path.append('../..')\n",
    "from src.knn.utils import convert_df_to_np\n",
    "from src.knn.main import classify"
   ]
  },
  {
   "cell_type": "code",
   "execution_count": 5,
   "metadata": {},
   "outputs": [],
   "source": [
    "import matplotlib.pyplot as plt\n",
    "import pandas as pd"
   ]
  },
  {
   "cell_type": "code",
   "execution_count": 6,
   "metadata": {},
   "outputs": [],
   "source": [
    "data_df = pd.read_csv('../../resources/knn_data.csv')"
   ]
  },
  {
   "cell_type": "code",
   "execution_count": 7,
   "metadata": {},
   "outputs": [
    {
     "data": {
      "text/plain": [
       "<bound method NDFrame.head of            x         y label\n",
       "0   3.353141  5.252320     D\n",
       "1   4.508717  2.498195     D\n",
       "2   3.495274  0.215827     F\n",
       "3   1.609617  3.015618     A\n",
       "4   0.730546  1.032748     B\n",
       "..       ...       ...   ...\n",
       "95  2.767191  3.489383     C\n",
       "96  2.555620  3.575881     A\n",
       "97  4.834579  2.150285     B\n",
       "98  5.246835  0.526772     A\n",
       "99  4.864529  0.718199     D\n",
       "\n",
       "[100 rows x 3 columns]>"
      ]
     },
     "execution_count": 7,
     "metadata": {},
     "output_type": "execute_result"
    }
   ],
   "source": [
    "data_df.head"
   ]
  },
  {
   "cell_type": "code",
   "execution_count": 8,
   "metadata": {},
   "outputs": [],
   "source": [
    "colors = {\n",
    "    'A': 'blue',\n",
    "    'B': 'green',\n",
    "    'C': 'red',\n",
    "    'D': 'magenta',\n",
    "    'E': 'yellow',\n",
    "    'F': 'orange'\n",
    "}"
   ]
  },
  {
   "cell_type": "code",
   "execution_count": 9,
   "metadata": {},
   "outputs": [],
   "source": [
    "np_arr, labels = convert_df_to_np(data_df)"
   ]
  },
  {
   "cell_type": "code",
   "execution_count": 10,
   "metadata": {},
   "outputs": [
    {
     "data": {
      "text/plain": [
       "(100, 100)"
      ]
     },
     "execution_count": 10,
     "metadata": {},
     "output_type": "execute_result"
    }
   ],
   "source": [
    "len(np_arr), len(labels)"
   ]
  },
  {
   "cell_type": "code",
   "execution_count": 11,
   "metadata": {},
   "outputs": [
    {
     "data": {
      "image/png": "[encoded data removed]",
      "text/plain": [
       "<Figure size 432x288 with 1 Axes>"
      ]
     },
     "metadata": {
      "needs_background": "light"
     },
     "output_type": "display_data"
    }
   ],
   "source": [
    "fig, ax = plt.subplots()"
   ]
  },
  {
   "cell_type": "code",
   "execution_count": 12,
   "metadata": {},
   "outputs": [
    {
     "data": {
      "image/png": "[encoded data removed]",
      "text/plain": [
       "<Figure size 432x288 with 1 Axes>"
      ]
     },
     "metadata": {
      "needs_background": "light"
     },
     "output_type": "display_data"
    }
   ],
   "source": [
    "for point, label in zip(np_arr, labels):\n",
    "    plt.scatter(point[0], point[1], c=colors[label])"
   ]
  },
  {
   "cell_type": "code",
   "execution_count": 16,
   "metadata": {},
   "outputs": [
    {
     "name": "stdout",
     "output_type": "stream",
     "text": [
      "Classfication result for point [2.3155519238869275, 1.5194042811447583]: D\n",
      "Classfication result for point [2.417367228913635, 2.711951874575091]: D\n",
      "Classfication result for point [4.065855934914948, 3.0690985301202858]: E\n",
      "Classfication result for point [4.710034068452462, 1.4480472490430745]: B\n",
      "Classfication result for point [3.4841947728662515, 2.615174568459503]: C\n"
     ]
    },
    {
     "data": {
      "image/png": "[encoded data removed]",
      "text/plain": [
       "<Figure size 432x288 with 1 Axes>"
      ]
     },
     "metadata": {
      "needs_background": "light"
     },
     "output_type": "display_data"
    }
   ],
   "source": [
    "k = 3\n",
    "\n",
    "import random\n",
    "\n",
    "for point, label in zip(np_arr, labels):\n",
    "    plt.scatter(point[0], point[1], c=colors[label])\n",
    "\n",
    "for i in range(5):\n",
    "    input_data = [random.uniform(1.0, 5.0), random.uniform(1.0, 5.0)]\n",
    "    classify_result = classify(input_data, np_arr, labels, k)\n",
    "    \n",
    "    print(f\"Classfication result for point {input_data}: {classify_result}\")\n",
    "    \n",
    "    plt.scatter(input_data[0], input_data[1], c=colors[classify_result])"
   ]
  },
  {
   "cell_type": "code",
   "execution_count": null,
   "metadata": {},
   "outputs": [],
   "source": []
  }
 ],
 "metadata": {
  "kernelspec": {
   "display_name": "Python 3",
   "language": "python",
   "name": "python3"
  },
  "language_info": {
   "codemirror_mode": {
    "name": "ipython",
    "version": 3
   },
   "file_extension": ".py",
   "mimetype": "text/x-python",
   "name": "python",
   "nbconvert_exporter": "python",
   "pygments_lexer": "ipython3",
   "version": "3.7.3"
  }
 },
 "nbformat": 4,
 "nbformat_minor": 2
}
