{
 "cells": [
  {
   "cell_type": "code",
   "execution_count": 1,
   "metadata": {},
   "outputs": [],
   "source": [
    "%load_ext autoreload"
   ]
  },
  {
   "cell_type": "code",
   "execution_count": 2,
   "metadata": {},
   "outputs": [],
   "source": [
    "%autoreload 2"
   ]
  },
  {
   "cell_type": "code",
   "execution_count": 3,
   "metadata": {},
   "outputs": [],
   "source": [
    "import sys\n",
    "sys.path.append('..')\n",
    "from src.commons.classes import Point\n",
    "from src.commons.methods import generate_random_points\n",
    "from src.k_means.main import generate_k_points, assign_points, update_centers"
   ]
  },
  {
   "cell_type": "code",
   "execution_count": 4,
   "metadata": {},
   "outputs": [],
   "source": [
    "import matplotlib.pyplot as plt\n",
    "import matplotlib.animation as animation\n",
    "import numpy as np"
   ]
  },
  {
   "cell_type": "code",
   "execution_count": 5,
   "metadata": {},
   "outputs": [],
   "source": [
    "colors = {\n",
    "    0: 'blue',\n",
    "    1: 'green',\n",
    "    2: 'red',\n",
    "    3: 'cyan',\n",
    "    4: 'magenta',\n",
    "    5: 'yellow',\n",
    "    6: 'black',\n",
    "    7: 'orange',\n",
    "    8: 'pink',\n",
    "    9: 'paleturquoise'\n",
    "}"
   ]
  },
  {
   "cell_type": "code",
   "execution_count": 6,
   "metadata": {},
   "outputs": [],
   "source": [
    "test_data = generate_random_points(0.0, 100.0, 100)\n",
    "k_points = generate_k_points(test_data, 10)\n",
    "assignments = assign_points(test_data, k_points)"
   ]
  },
  {
   "cell_type": "code",
   "execution_count": 7,
   "metadata": {},
   "outputs": [
    {
     "data": {
      "image/png": "[encoded data removed]",
      "text/plain": [
       "<Figure size 432x288 with 1 Axes>"
      ]
     },
     "metadata": {
      "needs_background": "light"
     },
     "output_type": "display_data"
    }
   ],
   "source": [
    "fig, ax = plt.subplots()\n",
    "x, y = [],[]\n",
    "sc = ax.scatter(x,y)"
   ]
  },
  {
   "cell_type": "code",
   "execution_count": 8,
   "metadata": {},
   "outputs": [],
   "source": [
    "init_data = []\n",
    "init_data.extend(test_data)\n",
    "init_data.extend(k_points)"
   ]
  },
  {
   "cell_type": "code",
   "execution_count": 9,
   "metadata": {},
   "outputs": [],
   "source": [
    "def init():\n",
    "    x = [item.x for item in init_data]\n",
    "    y = [item.y for item in init_data]\n",
    "    sc.set_offsets(np.c_[np.asarray(x),np.asarray(y)])\n",
    "    return sc,"
   ]
  },
  {
   "cell_type": "code",
   "execution_count": 10,
   "metadata": {},
   "outputs": [],
   "source": [
    "def animate(i):\n",
    "    new_centers = update_centers(test_data, assignments)\n",
    "    temp_assignments = assign_points(test_data, new_centers)\n",
    "    \n",
    "    temp_data = []\n",
    "    temp_data.extend(test_data)\n",
    "    temp_data.extend(new_centers)\n",
    "    \n",
    "    x = [item.x for item in init_data]\n",
    "    y = [item.y for item in init_data]\n",
    "    sc.set_offsets(np.c_[np.asarray(x),np.asarray(y)])\n",
    "    return sc,"
   ]
  },
  {
   "cell_type": "code",
   "execution_count": 11,
   "metadata": {},
   "outputs": [],
   "source": [
    "anim = animation.FuncAnimation(fig, animate, init_func=init, frames=2, interval=100, repeat=True)\n",
    "anim.save(\"movie.gif\", writer=animation.PillowWriter(fps=24))"
   ]
  },
  {
   "cell_type": "code",
   "execution_count": 13,
   "metadata": {},
   "outputs": [],
   "source": [
    "plt.rcParams['animation.ffmpeg_path'] = '/usr/bin/ffmpeg'\n",
    "Writer = animation.writers['ffmpeg']\n",
    "writer = Writer(fps=15, metadata=dict(artist='Me'), bitrate=1800)\n",
    "anim.save(\"test.mp4\", writer=writer)"
   ]
  },
  {
   "cell_type": "code",
   "execution_count": null,
   "metadata": {},
   "outputs": [],
   "source": []
  }
 ],
 "metadata": {
  "kernelspec": {
   "display_name": "Python 3",
   "language": "python",
   "name": "python3"
  },
  "language_info": {
   "codemirror_mode": {
    "name": "ipython",
    "version": 3
   },
   "file_extension": ".py",
   "mimetype": "text/x-python",
   "name": "python",
   "nbconvert_exporter": "python",
   "pygments_lexer": "ipython3",
   "version": "3.7.3"
  }
 },
 "nbformat": 4,
 "nbformat_minor": 2
}
