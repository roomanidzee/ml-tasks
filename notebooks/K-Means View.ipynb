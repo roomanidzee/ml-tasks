{
 "cells": [
  {
   "cell_type": "code",
   "execution_count": 1,
   "metadata": {},
   "outputs": [],
   "source": [
    "%load_ext autoreload"
   ]
  },
  {
   "cell_type": "code",
   "execution_count": 2,
   "metadata": {},
   "outputs": [],
   "source": [
    "%autoreload 2"
   ]
  },
  {
   "cell_type": "code",
   "execution_count": 5,
   "metadata": {},
   "outputs": [],
   "source": [
    "import sys\n",
    "sys.path.append('..')\n",
    "from src.commons.classes import Point\n",
    "from src.commons.methods import generate_random_points\n",
    "from src.k_means.main import generate_k_points, assign_points, update_centers"
   ]
  },
  {
   "cell_type": "code",
   "execution_count": 6,
   "metadata": {},
   "outputs": [
    {
     "data": {
      "text/plain": [
       "[Point(x=2.938376987666298, y=2.201680471014634),\n",
       " Point(x=7.1982461846295465, y=3.384724790443243),\n",
       " Point(x=1.3357372218975905, y=4.034689089988433),\n",
       " Point(x=1.0988326264319692, y=3.5533232559338956),\n",
       " Point(x=8.16854587276339, y=2.7538563879803526),\n",
       " Point(x=4.315034703248833, y=3.7987864672940965),\n",
       " Point(x=5.030468339707037, y=7.523431661576664),\n",
       " Point(x=3.794363302577548, y=9.230289263535353),\n",
       " Point(x=4.80075346703985, y=7.805896969392068),\n",
       " Point(x=5.3786209045071045, y=6.736154040174107)]"
      ]
     },
     "execution_count": 6,
     "metadata": {},
     "output_type": "execute_result"
    }
   ],
   "source": [
    "generate_random_points(0.0, 10.0, 10)"
   ]
  },
  {
   "cell_type": "code",
   "execution_count": null,
   "metadata": {},
   "outputs": [],
   "source": [
    "test_data = generate_random_points()"
   ]
  }
 ],
 "metadata": {
  "kernelspec": {
   "display_name": "Python 3",
   "language": "python",
   "name": "python3"
  },
  "language_info": {
   "codemirror_mode": {
    "name": "ipython",
    "version": 3
   },
   "file_extension": ".py",
   "mimetype": "text/x-python",
   "name": "python",
   "nbconvert_exporter": "python",
   "pygments_lexer": "ipython3",
   "version": "3.7.3"
  }
 },
 "nbformat": 4,
 "nbformat_minor": 2
}
