{
 "cells": [
  {
   "cell_type": "code",
   "execution_count": 1,
   "metadata": {},
   "outputs": [],
   "source": [
    "%load_ext autoreload"
   ]
  },
  {
   "cell_type": "code",
   "execution_count": 2,
   "metadata": {},
   "outputs": [],
   "source": [
    "%autoreload 2"
   ]
  },
  {
   "cell_type": "code",
   "execution_count": 14,
   "metadata": {},
   "outputs": [],
   "source": [
    "import sys\n",
    "sys.path.append('../..')\n",
    "from src.svm.main import train"
   ]
  },
  {
   "cell_type": "code",
   "execution_count": 15,
   "metadata": {},
   "outputs": [],
   "source": [
    "import numpy as np\n",
    "import matplotlib.pyplot as plt\n",
    "import matplotlib.cm as cm\n",
    "import itertools"
   ]
  },
  {
   "cell_type": "code",
   "execution_count": 16,
   "metadata": {},
   "outputs": [],
   "source": [
    "samples = np.matrix(np.random.normal(size=num_samples * num_features)\n",
    "                        .reshape(num_samples, num_features))"
   ]
  },
  {
   "cell_type": "code",
   "execution_count": 17,
   "metadata": {},
   "outputs": [],
   "source": [
    "labels = 2 * (samples.sum(axis=1) > 0) - 1.0"
   ]
  },
  {
   "cell_type": "code",
   "execution_count": 18,
   "metadata": {},
   "outputs": [
    {
     "name": "stdout",
     "output_type": "stream",
     "text": [
      "     pcost       dcost       gap    pres   dres\n",
      " 0: -6.3923e-01 -1.6110e+00  3e+01  5e+00  2e-16\n",
      " 1: -5.0818e-01 -1.4480e+00  2e+00  2e-01  3e-16\n",
      " 2: -4.3125e-01 -6.7160e-01  2e-01  7e-17  4e-16\n",
      " 3: -4.4581e-01 -4.8638e-01  4e-02  5e-17  2e-16\n",
      " 4: -4.6081e-01 -4.6506e-01  4e-03  6e-17  1e-16\n",
      " 5: -4.6287e-01 -4.6323e-01  4e-04  7e-17  2e-16\n",
      " 6: -4.6303e-01 -4.6306e-01  3e-05  5e-17  2e-16\n",
      " 7: -4.6305e-01 -4.6305e-01  3e-06  5e-17  2e-16\n",
      " 8: -4.6305e-01 -4.6305e-01  4e-07  6e-17  5e-17\n",
      "Optimal solution found.\n"
     ]
    }
   ],
   "source": [
    "predictor = train(X, y)"
   ]
  },
  {
   "cell_type": "code",
   "execution_count": 19,
   "metadata": {},
   "outputs": [
    {
     "name": "stdout",
     "output_type": "stream",
     "text": [
      "     pcost       dcost       gap    pres   dres\n",
      " 0: -6.3923e-01 -1.6110e+00  3e+01  5e+00  2e-16\n",
      " 1: -5.0818e-01 -1.4480e+00  2e+00  2e-01  3e-16\n",
      " 2: -4.3125e-01 -6.7160e-01  2e-01  7e-17  4e-16\n",
      " 3: -4.4581e-01 -4.8638e-01  4e-02  5e-17  2e-16\n",
      " 4: -4.6081e-01 -4.6506e-01  4e-03  6e-17  1e-16\n",
      " 5: -4.6287e-01 -4.6323e-01  4e-04  7e-17  2e-16\n",
      " 6: -4.6303e-01 -4.6306e-01  3e-05  5e-17  2e-16\n",
      " 7: -4.6305e-01 -4.6305e-01  3e-06  5e-17  2e-16\n",
      " 8: -4.6305e-01 -4.6305e-01  4e-07  6e-17  5e-17\n",
      "Optimal solution found.\n"
     ]
    }
   ],
   "source": [
    "num_samples = 10\n",
    "num_features = 3\n",
    "grid_size = 20\n",
    "\n",
    "samples = np.matrix(np.random.normal(size=num_samples * num_features)\n",
    "                        .reshape(num_samples, num_features))\n",
    "labels = 2 * (samples.sum(axis=1) > 0) - 1.0\n",
    "\n",
    "predictor = train(X, y)"
   ]
  },
  {
   "cell_type": "code",
   "execution_count": 20,
   "metadata": {},
   "outputs": [],
   "source": [
    "X = samples\n",
    "y = labels"
   ]
  },
  {
   "cell_type": "code",
   "execution_count": 21,
   "metadata": {},
   "outputs": [
    {
     "ename": "ValueError",
     "evalue": "shapes (1,3) and (2,1) not aligned: 3 (dim 1) != 2 (dim 0)",
     "output_type": "error",
     "traceback": [
      "\u001b[0;31m---------------------------------------------------------------------------\u001b[0m",
      "\u001b[0;31mValueError\u001b[0m                                Traceback (most recent call last)",
      "\u001b[0;32m<ipython-input-21-e656159e30b8>\u001b[0m in \u001b[0;36m<module>\u001b[0;34m\u001b[0m\n\u001b[1;32m      9\u001b[0m \u001b[0;32mfor\u001b[0m \u001b[0;34m(\u001b[0m\u001b[0mi\u001b[0m\u001b[0;34m,\u001b[0m \u001b[0mj\u001b[0m\u001b[0;34m)\u001b[0m \u001b[0;32min\u001b[0m \u001b[0mitertools\u001b[0m\u001b[0;34m.\u001b[0m\u001b[0mproduct\u001b[0m\u001b[0;34m(\u001b[0m\u001b[0mrange\u001b[0m\u001b[0;34m(\u001b[0m\u001b[0mgrid_size\u001b[0m\u001b[0;34m)\u001b[0m\u001b[0;34m,\u001b[0m \u001b[0mrange\u001b[0m\u001b[0;34m(\u001b[0m\u001b[0mgrid_size\u001b[0m\u001b[0;34m)\u001b[0m\u001b[0;34m)\u001b[0m\u001b[0;34m:\u001b[0m\u001b[0;34m\u001b[0m\u001b[0;34m\u001b[0m\u001b[0m\n\u001b[1;32m     10\u001b[0m     \u001b[0mpoint\u001b[0m \u001b[0;34m=\u001b[0m \u001b[0mnp\u001b[0m\u001b[0;34m.\u001b[0m\u001b[0marray\u001b[0m\u001b[0;34m(\u001b[0m\u001b[0;34m[\u001b[0m\u001b[0mxx\u001b[0m\u001b[0;34m[\u001b[0m\u001b[0mi\u001b[0m\u001b[0;34m,\u001b[0m \u001b[0mj\u001b[0m\u001b[0;34m]\u001b[0m\u001b[0;34m,\u001b[0m \u001b[0myy\u001b[0m\u001b[0;34m[\u001b[0m\u001b[0mi\u001b[0m\u001b[0;34m,\u001b[0m \u001b[0mj\u001b[0m\u001b[0;34m]\u001b[0m\u001b[0;34m]\u001b[0m\u001b[0;34m)\u001b[0m\u001b[0;34m.\u001b[0m\u001b[0mreshape\u001b[0m\u001b[0;34m(\u001b[0m\u001b[0;36m1\u001b[0m\u001b[0;34m,\u001b[0m \u001b[0;36m2\u001b[0m\u001b[0;34m)\u001b[0m\u001b[0;34m\u001b[0m\u001b[0;34m\u001b[0m\u001b[0m\n\u001b[0;32m---> 11\u001b[0;31m     \u001b[0mresult\u001b[0m\u001b[0;34m.\u001b[0m\u001b[0mappend\u001b[0m\u001b[0;34m(\u001b[0m\u001b[0mpredictor\u001b[0m\u001b[0;34m.\u001b[0m\u001b[0mpredict\u001b[0m\u001b[0;34m(\u001b[0m\u001b[0mpoint\u001b[0m\u001b[0;34m)\u001b[0m\u001b[0;34m)\u001b[0m\u001b[0;34m\u001b[0m\u001b[0;34m\u001b[0m\u001b[0m\n\u001b[0m\u001b[1;32m     12\u001b[0m \u001b[0;34m\u001b[0m\u001b[0m\n\u001b[1;32m     13\u001b[0m \u001b[0mZ\u001b[0m \u001b[0;34m=\u001b[0m \u001b[0mnp\u001b[0m\u001b[0;34m.\u001b[0m\u001b[0marray\u001b[0m\u001b[0;34m(\u001b[0m\u001b[0mresult\u001b[0m\u001b[0;34m)\u001b[0m\u001b[0;34m.\u001b[0m\u001b[0mreshape\u001b[0m\u001b[0;34m(\u001b[0m\u001b[0mxx\u001b[0m\u001b[0;34m.\u001b[0m\u001b[0mshape\u001b[0m\u001b[0;34m)\u001b[0m\u001b[0;34m\u001b[0m\u001b[0;34m\u001b[0m\u001b[0m\n",
      "\u001b[0;32m~/projects/code/python/ml-tasks/src/svm/main.py\u001b[0m in \u001b[0;36mpredict\u001b[0;34m(self, x)\u001b[0m\n\u001b[1;32m     21\u001b[0m \u001b[0;34m\u001b[0m\u001b[0m\n\u001b[1;32m     22\u001b[0m         \u001b[0;32mfor\u001b[0m \u001b[0mz\u001b[0m\u001b[0;34m,\u001b[0m \u001b[0mx_temp\u001b[0m\u001b[0;34m,\u001b[0m \u001b[0my\u001b[0m \u001b[0;32min\u001b[0m \u001b[0mzip\u001b[0m\u001b[0;34m(\u001b[0m\u001b[0mself\u001b[0m\u001b[0;34m.\u001b[0m\u001b[0mweights\u001b[0m\u001b[0;34m,\u001b[0m \u001b[0mself\u001b[0m\u001b[0;34m.\u001b[0m\u001b[0mvectors\u001b[0m\u001b[0;34m,\u001b[0m \u001b[0mself\u001b[0m\u001b[0;34m.\u001b[0m\u001b[0mlabels\u001b[0m\u001b[0;34m)\u001b[0m\u001b[0;34m:\u001b[0m\u001b[0;34m\u001b[0m\u001b[0;34m\u001b[0m\u001b[0m\n\u001b[0;32m---> 23\u001b[0;31m             \u001b[0mresult\u001b[0m \u001b[0;34m+=\u001b[0m \u001b[0mz\u001b[0m \u001b[0;34m*\u001b[0m \u001b[0my\u001b[0m \u001b[0;34m*\u001b[0m \u001b[0mcalculate_util\u001b[0m\u001b[0;34m(\u001b[0m\u001b[0mx_temp\u001b[0m\u001b[0;34m,\u001b[0m \u001b[0mx\u001b[0m\u001b[0;34m)\u001b[0m\u001b[0;34m\u001b[0m\u001b[0;34m\u001b[0m\u001b[0m\n\u001b[0m\u001b[1;32m     24\u001b[0m \u001b[0;34m\u001b[0m\u001b[0m\n\u001b[1;32m     25\u001b[0m         \u001b[0;32mreturn\u001b[0m \u001b[0mnp\u001b[0m\u001b[0;34m.\u001b[0m\u001b[0msign\u001b[0m\u001b[0;34m(\u001b[0m\u001b[0mresult\u001b[0m\u001b[0;34m)\u001b[0m\u001b[0;34m.\u001b[0m\u001b[0mitem\u001b[0m\u001b[0;34m(\u001b[0m\u001b[0;34m)\u001b[0m\u001b[0;34m\u001b[0m\u001b[0;34m\u001b[0m\u001b[0m\n",
      "\u001b[0;32m~/projects/code/python/ml-tasks/src/svm/utils.py\u001b[0m in \u001b[0;36mcalculate_util\u001b[0;34m(x, y)\u001b[0m\n\u001b[1;32m      4\u001b[0m \u001b[0;34m\u001b[0m\u001b[0m\n\u001b[1;32m      5\u001b[0m \u001b[0;32mdef\u001b[0m \u001b[0mcalculate_util\u001b[0m\u001b[0;34m(\u001b[0m\u001b[0mx\u001b[0m\u001b[0;34m,\u001b[0m \u001b[0my\u001b[0m\u001b[0;34m)\u001b[0m\u001b[0;34m:\u001b[0m\u001b[0;34m\u001b[0m\u001b[0;34m\u001b[0m\u001b[0m\n\u001b[0;32m----> 6\u001b[0;31m     \u001b[0;32mreturn\u001b[0m \u001b[0mnp\u001b[0m\u001b[0;34m.\u001b[0m\u001b[0minner\u001b[0m\u001b[0;34m(\u001b[0m\u001b[0mx\u001b[0m\u001b[0;34m,\u001b[0m \u001b[0my\u001b[0m\u001b[0;34m)\u001b[0m\u001b[0;34m\u001b[0m\u001b[0;34m\u001b[0m\u001b[0m\n\u001b[0m",
      "\u001b[0;32m<__array_function__ internals>\u001b[0m in \u001b[0;36minner\u001b[0;34m(*args, **kwargs)\u001b[0m\n",
      "\u001b[0;31mValueError\u001b[0m: shapes (1,3) and (2,1) not aligned: 3 (dim 1) != 2 (dim 0)"
     ]
    }
   ],
   "source": [
    "x_min, x_max = X[:, 0].min() - 1, X[:, 0].max() + 1\n",
    "y_min, y_max = X[:, 1].min() - 1, X[:, 1].max() + 1\n",
    "xx, yy = np.meshgrid(np.linspace(x_min, x_max, grid_size),\n",
    "                     np.linspace(y_min, y_max, grid_size),\n",
    "                     indexing='ij')\n",
    "flatten = lambda m: np.array(m).reshape(-1,)\n",
    "\n",
    "result = []\n",
    "for (i, j) in itertools.product(range(grid_size), range(grid_size)):\n",
    "    point = np.array([xx[i, j], yy[i, j]]).reshape(1, 2)\n",
    "    result.append(predictor.predict(point))\n",
    "\n",
    "Z = np.array(result).reshape(xx.shape)\n",
    "\n",
    "plt.contourf(xx, yy, Z,\n",
    "             cmap=cm.Paired,\n",
    "             levels=[-0.001, 0.001],\n",
    "             extend='both',\n",
    "             alpha=0.8)\n",
    "plt.scatter(flatten(X[:, 0]), flatten(X[:, 1]),\n",
    "            c=flatten(y), cmap=cm.Paired)\n",
    "plt.xlim(x_min, x_max)\n",
    "plt.ylim(y_min, y_max)\n",
    "plt.show()"
   ]
  },
  {
   "cell_type": "code",
   "execution_count": 24,
   "metadata": {},
   "outputs": [
    {
     "name": "stdout",
     "output_type": "stream",
     "text": [
      "     pcost       dcost       gap    pres   dres\n",
      " 0: -2.1504e+00 -2.0701e+00  5e+01  7e+00  2e-16\n",
      " 1: -6.0998e-01 -1.9173e+00  3e+00  2e-01  4e-16\n",
      " 2: -4.9734e-01 -8.6101e-01  4e-01  6e-17  4e-16\n",
      " 3: -5.1874e-01 -5.6989e-01  5e-02  5e-17  3e-16\n",
      " 4: -5.3941e-01 -5.4399e-01  5e-03  5e-17  2e-16\n",
      " 5: -5.4126e-01 -5.4137e-01  1e-04  5e-17  2e-16\n",
      " 6: -5.4130e-01 -5.4130e-01  1e-06  7e-17  3e-16\n",
      " 7: -5.4130e-01 -5.4130e-01  1e-08  5e-17  2e-16\n",
      "Optimal solution found.\n"
     ]
    }
   ],
   "source": [
    "num_samples = 10\n",
    "num_features = 2\n",
    "grid_size = 20\n",
    "\n",
    "samples = np.matrix(np.random.normal(size=num_samples * num_features)\n",
    "                        .reshape(num_samples, num_features))\n",
    "labels = 2 * (samples.sum(axis=1) > 0) - 1.0\n",
    "\n",
    "predictor = train(samples, labels)"
   ]
  },
  {
   "cell_type": "code",
   "execution_count": 25,
   "metadata": {},
   "outputs": [
    {
     "data": {
      "image/png": "[encoded data removed]",
      "text/plain": [
       "<Figure size 432x288 with 1 Axes>"
      ]
     },
     "metadata": {
      "needs_background": "light"
     },
     "output_type": "display_data"
    }
   ],
   "source": [
    "X = samples\n",
    "y = labels\n",
    "x_min, x_max = X[:, 0].min() - 1, X[:, 0].max() + 1\n",
    "y_min, y_max = X[:, 1].min() - 1, X[:, 1].max() + 1\n",
    "xx, yy = np.meshgrid(np.linspace(x_min, x_max, grid_size),\n",
    "                     np.linspace(y_min, y_max, grid_size),\n",
    "                     indexing='ij')\n",
    "flatten = lambda m: np.array(m).reshape(-1,)\n",
    "\n",
    "result = []\n",
    "for (i, j) in itertools.product(range(grid_size), range(grid_size)):\n",
    "    point = np.array([xx[i, j], yy[i, j]]).reshape(1, 2)\n",
    "    result.append(predictor.predict(point))\n",
    "\n",
    "Z = np.array(result).reshape(xx.shape)\n",
    "\n",
    "plt.contourf(xx, yy, Z,\n",
    "             cmap=cm.Paired,\n",
    "             levels=[-0.001, 0.001],\n",
    "             extend='both',\n",
    "             alpha=0.8)\n",
    "plt.scatter(flatten(X[:, 0]), flatten(X[:, 1]),\n",
    "            c=flatten(y), cmap=cm.Paired)\n",
    "plt.xlim(x_min, x_max)\n",
    "plt.ylim(y_min, y_max)\n",
    "plt.show()"
   ]
  },
  {
   "cell_type": "code",
   "execution_count": 26,
   "metadata": {},
   "outputs": [
    {
     "name": "stdout",
     "output_type": "stream",
     "text": [
      "     pcost       dcost       gap    pres   dres\n",
      " 0: -2.0707e+01 -2.0394e+01  7e+02  3e+01  1e-15\n",
      " 1: -3.9948e+00 -1.9176e+01  5e+01  1e+00  2e-15\n",
      " 2: -2.4637e+00 -1.0114e+01  8e+00  2e-16  7e-16\n",
      " 3: -3.1291e+00 -4.1808e+00  1e+00  2e-16  4e-16\n",
      " 4: -3.5429e+00 -3.7628e+00  2e-01  2e-16  4e-16\n",
      " 5: -3.6133e+00 -3.6769e+00  6e-02  3e-16  4e-16\n",
      " 6: -3.6340e+00 -3.6561e+00  2e-02  2e-16  4e-16\n",
      " 7: -3.6434e+00 -3.6456e+00  2e-03  2e-16  4e-16\n",
      " 8: -3.6444e+00 -3.6444e+00  4e-05  2e-16  5e-16\n",
      " 9: -3.6444e+00 -3.6444e+00  4e-07  2e-16  4e-16\n",
      "Optimal solution found.\n"
     ]
    },
    {
     "data": {
      "image/png": "[encoded data removed]",
      "text/plain": [
       "<Figure size 432x288 with 1 Axes>"
      ]
     },
     "metadata": {
      "needs_background": "light"
     },
     "output_type": "display_data"
    }
   ],
   "source": [
    "num_samples = 100\n",
    "num_features = 2\n",
    "grid_size = 20\n",
    "\n",
    "samples = np.matrix(np.random.normal(size=num_samples * num_features)\n",
    "                        .reshape(num_samples, num_features))\n",
    "labels = 2 * (samples.sum(axis=1) > 0) - 1.0\n",
    "\n",
    "predictor = train(samples, labels)\n",
    "X = samples\n",
    "y = labels\n",
    "x_min, x_max = X[:, 0].min() - 1, X[:, 0].max() + 1\n",
    "y_min, y_max = X[:, 1].min() - 1, X[:, 1].max() + 1\n",
    "xx, yy = np.meshgrid(np.linspace(x_min, x_max, grid_size),\n",
    "                     np.linspace(y_min, y_max, grid_size),\n",
    "                     indexing='ij')\n",
    "flatten = lambda m: np.array(m).reshape(-1,)\n",
    "\n",
    "result = []\n",
    "for (i, j) in itertools.product(range(grid_size), range(grid_size)):\n",
    "    point = np.array([xx[i, j], yy[i, j]]).reshape(1, 2)\n",
    "    result.append(predictor.predict(point))\n",
    "\n",
    "Z = np.array(result).reshape(xx.shape)\n",
    "\n",
    "plt.contourf(xx, yy, Z,\n",
    "             cmap=cm.Paired,\n",
    "             levels=[-0.001, 0.001],\n",
    "             extend='both',\n",
    "             alpha=0.8)\n",
    "plt.scatter(flatten(X[:, 0]), flatten(X[:, 1]),\n",
    "            c=flatten(y), cmap=cm.Paired)\n",
    "plt.xlim(x_min, x_max)\n",
    "plt.ylim(y_min, y_max)\n",
    "plt.show()"
   ]
  },
  {
   "cell_type": "code",
   "execution_count": null,
   "metadata": {},
   "outputs": [],
   "source": []
  }
 ],
 "metadata": {
  "kernelspec": {
   "display_name": "Python 3",
   "language": "python",
   "name": "python3"
  },
  "language_info": {
   "codemirror_mode": {
    "name": "ipython",
    "version": 3
   },
   "file_extension": ".py",
   "mimetype": "text/x-python",
   "name": "python",
   "nbconvert_exporter": "python",
   "pygments_lexer": "ipython3",
   "version": "3.7.3"
  }
 },
 "nbformat": 4,
 "nbformat_minor": 2
}
