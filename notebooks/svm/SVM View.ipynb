{
 "cells": [
  {
   "cell_type": "code",
   "execution_count": 2,
   "metadata": {},
   "outputs": [],
   "source": [
    "%load_ext autoreload"
   ]
  },
  {
   "cell_type": "code",
   "execution_count": 3,
   "metadata": {},
   "outputs": [],
   "source": [
    "%autoreload 2"
   ]
  },
  {
   "cell_type": "code",
   "execution_count": 4,
   "metadata": {},
   "outputs": [],
   "source": [
    "import sys\n",
    "sys.path.append('../..')\n",
    "from src.svm.full import classify"
   ]
  },
  {
   "cell_type": "code",
   "execution_count": 5,
   "metadata": {},
   "outputs": [],
   "source": [
    "import numpy as np\n",
    "import numpy.random as npr"
   ]
  },
  {
   "cell_type": "code",
   "execution_count": 6,
   "metadata": {},
   "outputs": [],
   "source": [
    "n = 150\n",
    "\n",
    "class1 = npr.rand(n // 3, 2)\n",
    "class2 = npr.rand(n // 3, 2)\n",
    "class3 = npr.rand(n // 3, 2)"
   ]
  },
  {
   "cell_type": "code",
   "execution_count": 7,
   "metadata": {},
   "outputs": [],
   "source": [
    "theta = np.pi / 6.0\n",
    "r = np.cos(theta)\n",
    "s = np.sin(theta)\n",
    "rotation = np.array([[r, s], [s, -r]])"
   ]
  },
  {
   "cell_type": "code",
   "execution_count": 8,
   "metadata": {},
   "outputs": [
    {
     "data": {
      "text/plain": [
       "array([[ 0.8660254,  0.5      ],\n",
       "       [ 0.5      , -0.8660254]])"
      ]
     },
     "execution_count": 8,
     "metadata": {},
     "output_type": "execute_result"
    }
   ],
   "source": [
    "rotation"
   ]
  },
  {
   "cell_type": "code",
   "execution_count": 9,
   "metadata": {},
   "outputs": [
    {
     "data": {
      "text/plain": [
       "array([[0.0772258 , 0.51070049],\n",
       "       [0.8211012 , 0.52093816],\n",
       "       [0.53375577, 0.1070989 ],\n",
       "       [0.52266005, 0.24078567],\n",
       "       [0.80211994, 0.2865841 ],\n",
       "       [0.48421211, 0.74733407],\n",
       "       [0.47063381, 0.58066301],\n",
       "       [0.18469097, 0.36613674],\n",
       "       [0.92003372, 0.63671093],\n",
       "       [0.64642228, 0.68517739],\n",
       "       [0.50752602, 0.64276833],\n",
       "       [0.26440163, 0.24946555],\n",
       "       [0.12023137, 0.76951163],\n",
       "       [0.94554811, 0.17817088],\n",
       "       [0.34614435, 0.87810823],\n",
       "       [0.07844762, 0.89031254],\n",
       "       [0.55446302, 0.93116361],\n",
       "       [0.08181338, 0.1342714 ],\n",
       "       [0.78580859, 0.64038463],\n",
       "       [0.1379076 , 0.89311553],\n",
       "       [0.13296721, 0.67428544],\n",
       "       [0.25327084, 0.78870318],\n",
       "       [0.54939029, 0.56143707],\n",
       "       [0.05397664, 0.247849  ],\n",
       "       [0.88504675, 0.93298808],\n",
       "       [0.14646696, 0.81377109],\n",
       "       [0.48586762, 0.10370225],\n",
       "       [0.65480312, 0.46783339],\n",
       "       [0.54742434, 0.83969625],\n",
       "       [0.08904948, 0.04980142],\n",
       "       [0.21293371, 0.55386849],\n",
       "       [0.20275089, 0.93584112],\n",
       "       [0.60882534, 0.71494505],\n",
       "       [0.72850026, 0.61339367],\n",
       "       [0.79509826, 0.46879035],\n",
       "       [0.72120488, 0.25121227],\n",
       "       [0.43478559, 0.73090032],\n",
       "       [0.18514263, 0.23768524],\n",
       "       [0.69670522, 0.97735332],\n",
       "       [0.47963936, 0.81348074],\n",
       "       [0.62995643, 0.6826721 ],\n",
       "       [0.19677883, 0.13749993],\n",
       "       [0.80510256, 0.01355545],\n",
       "       [0.49885604, 0.92016306],\n",
       "       [0.40412464, 0.70288503],\n",
       "       [0.77226508, 0.62733722],\n",
       "       [0.95066453, 0.13661627],\n",
       "       [0.50441878, 0.49110711],\n",
       "       [0.49166787, 0.3280902 ],\n",
       "       [0.82183428, 0.11895194]])"
      ]
     },
     "execution_count": 9,
     "metadata": {},
     "output_type": "execute_result"
    }
   ],
   "source": [
    "class1"
   ]
  },
  {
   "cell_type": "code",
   "execution_count": 10,
   "metadata": {},
   "outputs": [],
   "source": [
    "samples = np.dot(np.vstack([class1, class2, class3]), rotation)"
   ]
  },
  {
   "cell_type": "code",
   "execution_count": 11,
   "metadata": {},
   "outputs": [
    {
     "data": {
      "text/plain": [
       "array([[ 0.32222975, -0.4036667 ],\n",
       "       [ 0.97156357, -0.04059508],\n",
       "       [ 0.51579551,  0.17412752],\n",
       "       [ 0.57302972,  0.05280352],\n",
       "       [ 0.8379483 ,  0.15287086],\n",
       "       [ 0.79300702, -0.40510423],\n",
       "       [ 0.69791235, -0.26755201],\n",
       "       [ 0.34301544, -0.22473823],\n",
       "       [ 1.11512804, -0.09139098],\n",
       "       [ 0.90240681, -0.27016989],\n",
       "       [ 0.76091459, -0.30289069],\n",
       "       [ 0.3537113 , -0.08384269],\n",
       "       [ 0.48887923, -0.60630094],\n",
       "       [ 0.90795412,  0.31847355],\n",
       "       [ 0.73882392, -0.58739186],\n",
       "       [ 0.51309391, -0.73180947],\n",
       "       [ 0.94576087, -0.52917983],\n",
       "       [ 0.13798817, -0.07537575],\n",
       "       [ 1.00072252, -0.16168506],\n",
       "       [ 0.56598925, -0.70450694],\n",
       "       [ 0.4522957 , -0.51746471],\n",
       "       [ 0.61369057, -0.55640157],\n",
       "       [ 0.75650448, -0.21152362],\n",
       "       [ 0.17066964, -0.18765521],\n",
       "       [ 1.23296701, -0.365468  ],\n",
       "       [ 0.53372965, -0.63151295],\n",
       "       [ 0.47262483,  0.15312502],\n",
       "       [ 0.80099283, -0.07775404],\n",
       "       [ 0.89393151, -0.45348611],\n",
       "       [ 0.10201982,  0.00139545],\n",
       "       [ 0.46134025, -0.37319733],\n",
       "       [ 0.64350799, -0.70908674],\n",
       "       [ 0.88473074, -0.31474791],\n",
       "       [ 0.93759657, -0.16696437],\n",
       "       [ 0.92297047, -0.00843522],\n",
       "       [ 0.75018789,  0.14304623],\n",
       "       [ 0.74198553, -0.41558545],\n",
       "       [ 0.27918084, -0.11327014],\n",
       "       [ 1.09204108, -0.49806019],\n",
       "       [ 0.82212024, -0.46467531],\n",
       "       [ 0.88689432, -0.27623317],\n",
       "       [ 0.23916543, -0.02068901],\n",
       "       [ 0.704017  ,  0.39081192],\n",
       "       [ 0.89210353, -0.54745657],\n",
       "       [ 0.70142472, -0.40665397],\n",
       "       [ 0.98246979, -0.15715743],\n",
       "       [ 0.89160777,  0.35701911],\n",
       "       [ 0.68239304, -0.17310184],\n",
       "       [ 0.58984196, -0.03830051],\n",
       "       [ 0.77120533,  0.30790174],\n",
       "       [ 0.6773783 ,  0.34186288],\n",
       "       [ 0.59761621, -0.04615214],\n",
       "       [ 0.65199811, -0.3084464 ],\n",
       "       [ 0.44320514, -0.13230366],\n",
       "       [ 0.47433126, -0.6565226 ],\n",
       "       [ 0.20767345, -0.01204103],\n",
       "       [ 0.96993547,  0.2057327 ],\n",
       "       [ 1.11790149, -0.05106422],\n",
       "       [ 0.40570656, -0.05046611],\n",
       "       [ 0.12779841, -0.05836566],\n",
       "       [ 1.06278617, -0.38725785],\n",
       "       [ 1.21164803, -0.18937685],\n",
       "       [ 0.76152253, -0.43013983],\n",
       "       [ 0.72578294, -0.37695493],\n",
       "       [ 0.54504252, -0.1903583 ],\n",
       "       [ 0.37474472,  0.07859511],\n",
       "       [ 0.67557257, -0.66453546],\n",
       "       [ 0.41099706,  0.13518727],\n",
       "       [ 0.49099913,  0.08105088],\n",
       "       [ 0.25915724, -0.33727667],\n",
       "       [ 0.55000628, -0.2751765 ],\n",
       "       [ 0.67882705, -0.05044862],\n",
       "       [ 0.93466812, -0.55077682],\n",
       "       [ 0.47646292,  0.01822019],\n",
       "       [ 0.1615224 ,  0.072883  ],\n",
       "       [ 0.6460225 ,  0.06580014],\n",
       "       [ 0.43403997, -0.25898005],\n",
       "       [ 0.44336966, -0.64391743],\n",
       "       [ 1.16074225, -0.09487179],\n",
       "       [ 0.37034705, -0.53292224],\n",
       "       [ 1.28752196, -0.30407203],\n",
       "       [ 0.63763784, -0.78199815],\n",
       "       [ 0.32412962, -0.30162794],\n",
       "       [ 0.50239728, -0.20760483],\n",
       "       [ 1.02559805, -0.49162506],\n",
       "       [ 0.2101972 ,  0.01808335],\n",
       "       [ 1.06894096, -0.1208067 ],\n",
       "       [ 0.32436893, -0.05212472],\n",
       "       [ 1.05561664, -0.27087875],\n",
       "       [ 0.63333916,  0.31553758],\n",
       "       [ 0.70203421, -0.67381488],\n",
       "       [ 0.19536758, -0.24931733],\n",
       "       [ 1.01958426, -0.00863083],\n",
       "       [ 0.47744807, -0.17554328],\n",
       "       [ 0.41434121, -0.385737  ],\n",
       "       [ 0.31896798,  0.14356765],\n",
       "       [ 0.62979155, -0.0372283 ],\n",
       "       [ 0.6742542 ,  0.3772271 ],\n",
       "       [ 0.58127304, -0.46019913],\n",
       "       [ 0.68001062, -0.37614576],\n",
       "       [ 0.73660187, -0.32489856],\n",
       "       [ 0.69547512,  0.20030944],\n",
       "       [ 0.47692095,  0.19978807],\n",
       "       [ 0.31525197, -0.24652686],\n",
       "       [ 0.53803635, -0.10965496],\n",
       "       [ 0.83092622,  0.23890854],\n",
       "       [ 0.52082508, -0.42887009],\n",
       "       [ 0.10610821, -0.02863245],\n",
       "       [ 0.33666562,  0.0864452 ],\n",
       "       [ 1.23117578, -0.43455652],\n",
       "       [ 1.22726251, -0.22905609],\n",
       "       [ 0.60608325, -0.35459203],\n",
       "       [ 0.81702115,  0.29603674],\n",
       "       [ 0.76010863, -0.00705805],\n",
       "       [ 1.17837705, -0.36757613],\n",
       "       [ 0.42159433, -0.72095841],\n",
       "       [ 0.7412606 , -0.01094629],\n",
       "       [ 0.71547049,  0.31069602],\n",
       "       [ 1.0793018 , -0.51241381],\n",
       "       [ 0.92684193, -0.4115125 ],\n",
       "       [ 0.7839094 ,  0.06391532],\n",
       "       [ 0.506368  , -0.02443608],\n",
       "       [ 0.8968736 , -0.35605129],\n",
       "       [ 0.45897658, -0.78148336],\n",
       "       [ 0.09939201, -0.09498864],\n",
       "       [ 0.68827648, -0.35370377],\n",
       "       [ 0.82820016, -0.19508876],\n",
       "       [ 0.6363018 ,  0.32835305],\n",
       "       [ 0.95626974, -0.1082973 ],\n",
       "       [ 0.61704529, -0.69625355],\n",
       "       [ 0.35633276, -0.01990311],\n",
       "       [ 0.90368514, -0.19813538],\n",
       "       [ 0.95837426,  0.02916332],\n",
       "       [ 0.52079861, -0.33709214],\n",
       "       [ 0.90511745, -0.09910558],\n",
       "       [ 0.52299823, -0.59085987],\n",
       "       [ 0.28571381,  0.15871628],\n",
       "       [ 0.56506233, -0.82709059],\n",
       "       [ 0.46255768,  0.25873455],\n",
       "       [ 0.63614922, -0.40417118],\n",
       "       [ 0.59379505, -0.70168965],\n",
       "       [ 0.66833505, -0.55993106],\n",
       "       [ 0.51962425, -0.01271475],\n",
       "       [ 0.66762284,  0.22075564],\n",
       "       [ 1.16839205, -0.03094625],\n",
       "       [ 0.43900459, -0.44945203],\n",
       "       [ 1.04350935, -0.0560642 ],\n",
       "       [ 0.29179813, -0.11363819],\n",
       "       [ 0.39472596,  0.17604374],\n",
       "       [ 0.54849716,  0.01302709]])"
      ]
     },
     "execution_count": 11,
     "metadata": {},
     "output_type": "execute_result"
    }
   ],
   "source": [
    "samples"
   ]
  },
  {
   "cell_type": "code",
   "execution_count": 12,
   "metadata": {},
   "outputs": [],
   "source": [
    "labels = np.zeros(n)\n",
    "\n",
    "third = n // 3\n",
    "\n",
    "labels[:third] = 0\n",
    "labels[60:80] = 1\n",
    "labels[100:] = 2"
   ]
  },
  {
   "cell_type": "code",
   "execution_count": 13,
   "metadata": {},
   "outputs": [
    {
     "data": {
      "text/plain": [
       "array([0., 0., 0., 0., 0., 0., 0., 0., 0., 0., 0., 0., 0., 0., 0., 0., 0.,\n",
       "       0., 0., 0., 0., 0., 0., 0., 0., 0., 0., 0., 0., 0., 0., 0., 0., 0.,\n",
       "       0., 0., 0., 0., 0., 0., 0., 0., 0., 0., 0., 0., 0., 0., 0., 0., 0.,\n",
       "       0., 0., 0., 0., 0., 0., 0., 0., 0., 1., 1., 1., 1., 1., 1., 1., 1.,\n",
       "       1., 1., 1., 1., 1., 1., 1., 1., 1., 1., 1., 1., 0., 0., 0., 0., 0.,\n",
       "       0., 0., 0., 0., 0., 0., 0., 0., 0., 0., 0., 0., 0., 0., 0., 2., 2.,\n",
       "       2., 2., 2., 2., 2., 2., 2., 2., 2., 2., 2., 2., 2., 2., 2., 2., 2.,\n",
       "       2., 2., 2., 2., 2., 2., 2., 2., 2., 2., 2., 2., 2., 2., 2., 2., 2.,\n",
       "       2., 2., 2., 2., 2., 2., 2., 2., 2., 2., 2., 2., 2., 2.])"
      ]
     },
     "execution_count": 13,
     "metadata": {},
     "output_type": "execute_result"
    }
   ],
   "source": [
    "labels"
   ]
  },
  {
   "cell_type": "code",
   "execution_count": 14,
   "metadata": {},
   "outputs": [
    {
     "name": "stdout",
     "output_type": "stream",
     "text": [
      "     pcost       dcost       gap    pres   dres\n",
      " 0:  5.2793e-01  1.8033e+02  3e+02  2e+00  2e+02\n",
      " 1:  1.1440e+00  3.8744e+02  9e+01  1e+00  8e+01\n",
      " 2:  1.1541e+00  4.2663e+04  8e+01  1e+00  8e+01\n",
      " 3:  1.1542e+00  4.2280e+08  5e+02  1e+00  8e+01\n",
      " 4:  1.1542e+00  4.1857e+14  4e+06  1e+00  8e+01\n",
      " 5:  1.1542e+00  4.1439e+22  4e+12  1e+00  8e+01\n",
      " 6:  1.1542e+00  4.1024e+32  4e+20  1e+00  8e+01\n",
      " 7:  1.1542e+00  4.0617e+44  4e+30  1e+00  8e+01\n",
      " 8:  1.1542e+00  4.0104e+58  4e+42  1e+00  8e+01\n",
      " 9:  1.1542e+00  1.6719e+74  2e+56  1e+00  8e+01\n",
      "10:  1.1542e+00  1.3098e+90  1e+70  1e+00  8e+01\n",
      "11:  8.7863e+01  7.7156e+111  8e+91  1e+00  8e+01\n",
      "12:  2.1919e+02  9.5505e+111  1e+92  1e+00  8e+01\n",
      "13:  6.7791e+02  1.1349e+112  1e+92  1e+00  8e+01\n",
      "14:  1.9301e+03  1.6311e+112  2e+92  1e+00  8e+01\n",
      "15:  6.0496e+03  7.1224e+112  7e+92  1e+00  8e+01\n",
      "16:  5.8651e+03  7.1224e+152  7e+132  7e-01  2e-14\n",
      "17:  5.9808e+01  7.0503e+192  7e+172  7e-01  1e-16\n",
      "18:  5.9808e+01  5.5142e+208  6e+186  7e-01  1e-16\n",
      "19:  1.7530e+00  5.3881e+252  5e+230  7e-01  8e-17\n",
      "20:  3.3160e+00  5.3881e+252  5e+230  7e-01  5e-16\n",
      "21:  1.0258e+01  5.3881e+252  5e+230  7e-01  5e-16\n",
      "22:  2.4194e+01  5.3881e+252  5e+230  7e-01  5e-16\n",
      "23:  9.3049e+01  5.3881e+252  5e+230  7e-01  7e-16\n",
      "24:  2.3196e+02  5.3881e+252  5e+230  7e-01  5e-16\n",
      "25:  9.1636e+02  5.3881e+252  5e+230  7e-01  5e-16\n",
      "26:  2.2981e+03  5.3881e+252  5e+230  7e-01  6e-16\n",
      "27:  9.1037e+03  5.3881e+252  5e+230  7e-01  2e-15\n",
      "28:  2.2844e+04  5.3881e+252  5e+230  7e-01  1e-15\n",
      "29:  9.0522e+04  5.3881e+252  5e+230  7e-01  6e-16\n",
      "30:  2.2716e+05  5.3881e+252  5e+230  7e-01  1e-15\n",
      "31:  9.0017e+05  5.3881e+252  5e+230  7e-01  2e-15\n",
      "32:  2.2590e+06  5.3881e+252  5e+230  7e-01  2e-15\n",
      "33:  8.9516e+06  5.3881e+252  5e+230  7e-01  2e-15\n",
      "34:  2.2464e+07  5.3881e+252  5e+230  7e-01  2e-15\n",
      "35:  8.9018e+07  5.3881e+252  5e+230  7e-01  2e-15\n",
      "36:  2.2339e+08  5.3881e+252  5e+230  7e-01  2e-15\n",
      "37:  8.8523e+08  5.3881e+252  5e+230  7e-01  1e-15\n",
      "38:  2.2215e+09  5.3881e+252  5e+230  7e-01  2e-15\n",
      "39:  8.8031e+09  5.3881e+252  5e+230  7e-01  1e-15\n",
      "40:  2.2091e+10  5.3881e+252  5e+230  7e-01  1e-15\n",
      "41:  8.7541e+10  5.3881e+252  5e+230  7e-01  1e-15\n",
      "42:  2.1968e+11  5.3881e+252  5e+230  7e-01  2e-15\n",
      "43:  8.7054e+11  5.3881e+252  5e+230  7e-01  3e-15\n",
      "44:  2.1846e+12  5.3881e+252  5e+230  7e-01  2e-15\n",
      "45:  8.6570e+12  5.3881e+252  5e+230  7e-01  2e-15\n",
      "46:  2.1725e+13  5.3881e+252  5e+230  7e-01  2e-15\n",
      "47:  8.6088e+13  5.3881e+252  5e+230  7e-01  1e-15\n",
      "48:  2.1604e+14  5.3881e+252  5e+230  7e-01  1e-15\n",
      "49:  8.5609e+14  5.3881e+252  5e+230  8e-01  2e-15\n",
      "50:  2.1484e+15  5.3881e+252  5e+230  9e-01  2e-15\n",
      "51:  8.5133e+15  5.3881e+252  5e+230  5e+00  2e-15\n",
      "52:  2.1364e+16  5.3881e+252  5e+230  7e+00  2e-15\n",
      "53:  8.4659e+16  5.3881e+252  5e+230  2e+01  3e-15\n",
      "54:  2.1245e+17  5.3881e+252  5e+230  7e+01  3e-15\n",
      "55:  8.4188e+17  5.3881e+252  5e+230  2e+02  3e-15\n",
      "56:  2.1127e+18  5.3881e+252  5e+230  5e+02  4e-15\n",
      "57:  8.3720e+18  5.3881e+252  5e+230  2e+03  4e-15\n",
      "58:  2.1010e+19  5.3881e+252  5e+230  5e+03  4e-15\n",
      "59:  8.3254e+19  5.3881e+252  5e+230  2e+04  4e-15\n",
      "60:  2.0893e+20  5.3881e+252  5e+230  4e+04  4e-15\n",
      "61:  8.2791e+20  5.3881e+252  5e+230  3e+05  4e-15\n",
      "62:  2.0777e+21  5.3881e+252  5e+230  5e+05  4e-15\n",
      "63:  8.2331e+21  5.3881e+252  5e+230  2e+06  4e-15\n",
      "64:  2.0661e+22  5.3881e+252  5e+230  5e+06  4e-15\n",
      "65:  8.1873e+22  5.3881e+252  5e+230  2e+07  4e-15\n",
      "66:  2.0546e+23  5.3881e+252  5e+230  5e+07  4e-15\n",
      "67:  8.1417e+23  5.3881e+252  5e+230  3e+08  4e-15\n",
      "68:  2.0432e+24  5.3881e+252  5e+230  5e+08  4e-15\n",
      "69:  8.0964e+24  5.3881e+252  5e+230  2e+09  6e-15\n",
      "70:  2.0318e+25  5.3881e+252  5e+230  5e+09  5e-15\n",
      "71:  8.0514e+25  5.3881e+252  5e+230  2e+10  5e-15\n",
      "72:  2.0205e+26  5.3881e+252  5e+230  4e+10  5e-15\n",
      "73:  8.0066e+26  5.3881e+252  5e+230  2e+11  4e-15\n",
      "74:  2.0093e+27  5.3881e+252  5e+230  2e+12  5e-15\n",
      "75:  7.9621e+27  5.3881e+252  5e+230  4e+12  6e-15\n",
      "76:  1.9981e+28  5.3881e+252  5e+230  6e+12  6e-15\n",
      "77:  7.9178e+28  5.3881e+252  5e+230  1e+13  5e-15\n",
      "78:  1.9870e+29  5.3881e+252  5e+230  5e+13  5e-15\n",
      "79:  7.8737e+29  5.3881e+252  5e+230  2e+14  7e-15\n",
      "80:  1.9759e+30  5.3881e+252  5e+230  1e+15  7e-15\n",
      "81:  7.8299e+30  5.3881e+252  5e+230  2e+15  7e-15\n",
      "82:  1.9649e+31  5.3881e+252  5e+230  7e+15  7e-15\n",
      "83:  7.7864e+31  5.3881e+252  5e+230  2e+16  6e-15\n",
      "84:  1.9540e+32  5.3881e+252  5e+230  5e+16  6e-15\n",
      "85:  7.7431e+32  5.3881e+252  5e+230  2e+17  7e-15\n",
      "86:  1.9431e+33  5.3881e+252  5e+230  1e+18  7e-15\n",
      "87:  7.7000e+33  5.3881e+252  5e+230  5e+18  7e-15\n",
      "88:  1.9323e+34  5.3881e+252  5e+230  1e+19  7e-15\n",
      "89:  7.6572e+34  5.3881e+252  5e+230  3e+19  8e-15\n",
      "90:  1.9216e+35  5.3881e+252  5e+230  7e+19  8e-15\n",
      "91:  7.6146e+35  5.3881e+252  5e+230  2e+20  8e-15\n",
      "92:  1.9109e+36  5.3881e+252  5e+230  6e+20  8e-15\n",
      "93:  7.5722e+36  5.3881e+252  5e+230  2e+21  8e-15\n",
      "94:  1.9002e+37  5.3881e+252  5e+230  8e+21  8e-15\n",
      "95:  7.5301e+37  5.3881e+252  5e+230  3e+22  7e-15\n",
      "96:  1.8897e+38  5.3881e+252  5e+230  8e+22  8e-15\n",
      "97:  7.4882e+38  5.3881e+252  5e+230  2e+23  8e-15\n",
      "98:  1.8792e+39  5.3881e+252  5e+230  1e+24  8e-15\n",
      "99:  7.4465e+39  5.3881e+252  5e+230  4e+24  9e-15\n",
      "100:  1.8687e+40  5.3881e+252  5e+230  5e+24  9e-15\n",
      "Terminated (maximum number of iterations reached).\n"
     ]
    }
   ],
   "source": [
    "p, q, g, h, x = classify(samples, labels)"
   ]
  },
  {
   "cell_type": "code",
   "execution_count": 15,
   "metadata": {},
   "outputs": [
    {
     "data": {
      "text/plain": [
       "<3x1 matrix, tc='d'>"
      ]
     },
     "execution_count": 15,
     "metadata": {},
     "output_type": "execute_result"
    }
   ],
   "source": [
    "x"
   ]
  },
  {
   "cell_type": "code",
   "execution_count": 16,
   "metadata": {},
   "outputs": [
    {
     "data": {
      "text/plain": [
       "'[ 6.58e-01]\\n[-1.70e-01]\\n[ 1.87e+40]\\n'"
      ]
     },
     "execution_count": 16,
     "metadata": {},
     "output_type": "execute_result"
    }
   ],
   "source": [
    "str(x)"
   ]
  },
  {
   "cell_type": "code",
   "execution_count": 17,
   "metadata": {},
   "outputs": [],
   "source": [
    "import pylab"
   ]
  },
  {
   "cell_type": "code",
   "execution_count": 18,
   "metadata": {},
   "outputs": [
    {
     "data": {
      "text/plain": [
       "<matplotlib.collections.PathCollection at 0x7ff55c7599e8>"
      ]
     },
     "execution_count": 18,
     "metadata": {},
     "output_type": "execute_result"
    },
    {
     "data": {
      "image/png": "[encoded data removed]",
      "text/plain": [
       "<Figure size 432x288 with 1 Axes>"
      ]
     },
     "metadata": {
      "needs_background": "light"
     },
     "output_type": "display_data"
    }
   ],
   "source": [
    "c = ['red'] * 50 + ['blue'] * 50 + ['green'] * 50\n",
    "pylab.scatter(samples[:, 0], samples[:, 1], color=c)"
   ]
  },
  {
   "cell_type": "code",
   "execution_count": 19,
   "metadata": {},
   "outputs": [
    {
     "data": {
      "image/png": "[encoded data removed]",
      "text/plain": [
       "<Figure size 432x288 with 1 Axes>"
      ]
     },
     "metadata": {
      "needs_background": "light"
     },
     "output_type": "display_data"
    }
   ],
   "source": [
    "xlim = pylab.gca().get_xlim()\n",
    "ylim = pylab.gca().get_ylim()"
   ]
  },
  {
   "cell_type": "code",
   "execution_count": 20,
   "metadata": {},
   "outputs": [],
   "source": [
    "def project(x, pt):\n",
    "\n",
    "    i = pt[0] + -(x[0] * pt[0] + x[1] * pt[1] + x[2]) * x[0] / (x[0] ** 2 + x[1] ** 2)\n",
    "    j = pt[1] + -(x[0] * pt[0] + x[1] * pt[1] + x[2]) * x[1] / (x[0] ** 2 + x[1] ** 2)\n",
    "\n",
    "    return [i,j]"
   ]
  },
  {
   "cell_type": "code",
   "execution_count": 21,
   "metadata": {},
   "outputs": [],
   "source": [
    "def plot_line(x, xlim, ylim):\n",
    "\n",
    "    pt1 = [xlim[0],ylim[0]]\n",
    "    pt2 = [xlim[0],ylim[1]]\n",
    "    pt3 = [xlim[1],ylim[0]]\n",
    "    pt4 = [xlim[1],ylim[1]]\n",
    "\n",
    "    nt1 = project(x, pt1)\n",
    "    nt2 = project(x, pt2)\n",
    "    nt3 = project(x, pt3)\n",
    "    nt4 = project(x, pt4)\n",
    "\n",
    "    x = [i[0] for i in (nt1,nt2,nt3,nt4)]\n",
    "    y = [i[1] for i in (nt1,nt2,nt3,nt4)]\n",
    "    pylab.plot(x,y)\n",
    "\n",
    "    pylab.gca().set_xlim(xlim)\n",
    "    pylab.gca().set_ylim(ylim)"
   ]
  },
  {
   "cell_type": "code",
   "execution_count": 22,
   "metadata": {},
   "outputs": [
    {
     "data": {
      "image/png": "[encoded data removed]",
      "text/plain": [
       "<Figure size 432x288 with 1 Axes>"
      ]
     },
     "metadata": {
      "needs_background": "light"
     },
     "output_type": "display_data"
    }
   ],
   "source": [
    "plot_line(x, xlim, ylim)\n",
    "pylab.show()"
   ]
  },
  {
   "cell_type": "code",
   "execution_count": 23,
   "metadata": {},
   "outputs": [
    {
     "name": "stdout",
     "output_type": "stream",
     "text": [
      "     pcost       dcost       gap    pres   dres\n",
      " 0:  5.2793e-01  1.8033e+02  3e+02  2e+00  2e+02\n",
      " 1:  1.1440e+00  3.8744e+02  9e+01  1e+00  8e+01\n",
      " 2:  1.1541e+00  4.2663e+04  8e+01  1e+00  8e+01\n",
      " 3:  1.1542e+00  4.2280e+08  5e+02  1e+00  8e+01\n",
      " 4:  1.1542e+00  4.1857e+14  4e+06  1e+00  8e+01\n",
      " 5:  1.1542e+00  4.1439e+22  4e+12  1e+00  8e+01\n",
      " 6:  1.1542e+00  4.1024e+32  4e+20  1e+00  8e+01\n",
      " 7:  1.1542e+00  4.0617e+44  4e+30  1e+00  8e+01\n",
      " 8:  1.1542e+00  4.0104e+58  4e+42  1e+00  8e+01\n",
      " 9:  1.1542e+00  1.6719e+74  2e+56  1e+00  8e+01\n",
      "10:  1.1542e+00  1.3098e+90  1e+70  1e+00  8e+01\n",
      "11:  8.7863e+01  7.7156e+111  8e+91  1e+00  8e+01\n",
      "12:  2.1919e+02  9.5505e+111  1e+92  1e+00  8e+01\n",
      "13:  6.7791e+02  1.1349e+112  1e+92  1e+00  8e+01\n",
      "14:  1.9301e+03  1.6311e+112  2e+92  1e+00  8e+01\n",
      "15:  6.0496e+03  7.1224e+112  7e+92  1e+00  8e+01\n",
      "16:  5.8651e+03  7.1224e+152  7e+132  7e-01  2e-14\n",
      "17:  5.9808e+01  7.0503e+192  7e+172  7e-01  1e-16\n",
      "18:  5.9808e+01  5.5142e+208  6e+186  7e-01  1e-16\n",
      "19:  1.7530e+00  5.3881e+252  5e+230  7e-01  8e-17\n",
      "20:  3.3160e+00  5.3881e+252  5e+230  7e-01  5e-16\n",
      "21:  1.0258e+01  5.3881e+252  5e+230  7e-01  5e-16\n",
      "22:  2.4194e+01  5.3881e+252  5e+230  7e-01  5e-16\n",
      "23:  9.3049e+01  5.3881e+252  5e+230  7e-01  7e-16\n",
      "24:  2.3196e+02  5.3881e+252  5e+230  7e-01  5e-16\n",
      "25:  9.1636e+02  5.3881e+252  5e+230  7e-01  5e-16\n",
      "26:  2.2981e+03  5.3881e+252  5e+230  7e-01  6e-16\n",
      "27:  9.1037e+03  5.3881e+252  5e+230  7e-01  2e-15\n",
      "28:  2.2844e+04  5.3881e+252  5e+230  7e-01  1e-15\n",
      "29:  9.0522e+04  5.3881e+252  5e+230  7e-01  6e-16\n",
      "30:  2.2716e+05  5.3881e+252  5e+230  7e-01  1e-15\n",
      "31:  9.0017e+05  5.3881e+252  5e+230  7e-01  2e-15\n",
      "32:  2.2590e+06  5.3881e+252  5e+230  7e-01  2e-15\n",
      "33:  8.9516e+06  5.3881e+252  5e+230  7e-01  2e-15\n",
      "34:  2.2464e+07  5.3881e+252  5e+230  7e-01  2e-15\n",
      "35:  8.9018e+07  5.3881e+252  5e+230  7e-01  2e-15\n",
      "36:  2.2339e+08  5.3881e+252  5e+230  7e-01  2e-15\n",
      "37:  8.8523e+08  5.3881e+252  5e+230  7e-01  1e-15\n",
      "38:  2.2215e+09  5.3881e+252  5e+230  7e-01  2e-15\n",
      "39:  8.8031e+09  5.3881e+252  5e+230  7e-01  1e-15\n",
      "40:  2.2091e+10  5.3881e+252  5e+230  7e-01  1e-15\n",
      "41:  8.7541e+10  5.3881e+252  5e+230  7e-01  1e-15\n",
      "42:  2.1968e+11  5.3881e+252  5e+230  7e-01  2e-15\n",
      "43:  8.7054e+11  5.3881e+252  5e+230  7e-01  3e-15\n",
      "44:  2.1846e+12  5.3881e+252  5e+230  7e-01  2e-15\n",
      "45:  8.6570e+12  5.3881e+252  5e+230  7e-01  2e-15\n",
      "46:  2.1725e+13  5.3881e+252  5e+230  7e-01  2e-15\n",
      "47:  8.6088e+13  5.3881e+252  5e+230  7e-01  1e-15\n",
      "48:  2.1604e+14  5.3881e+252  5e+230  7e-01  1e-15\n",
      "49:  8.5609e+14  5.3881e+252  5e+230  8e-01  2e-15\n",
      "50:  2.1484e+15  5.3881e+252  5e+230  9e-01  2e-15\n",
      "51:  8.5133e+15  5.3881e+252  5e+230  5e+00  2e-15\n",
      "52:  2.1364e+16  5.3881e+252  5e+230  7e+00  2e-15\n",
      "53:  8.4659e+16  5.3881e+252  5e+230  2e+01  3e-15\n",
      "54:  2.1245e+17  5.3881e+252  5e+230  7e+01  3e-15\n",
      "55:  8.4188e+17  5.3881e+252  5e+230  2e+02  3e-15\n",
      "56:  2.1127e+18  5.3881e+252  5e+230  5e+02  4e-15\n",
      "57:  8.3720e+18  5.3881e+252  5e+230  2e+03  4e-15\n",
      "58:  2.1010e+19  5.3881e+252  5e+230  5e+03  4e-15\n",
      "59:  8.3254e+19  5.3881e+252  5e+230  2e+04  4e-15\n",
      "60:  2.0893e+20  5.3881e+252  5e+230  4e+04  4e-15\n",
      "61:  8.2791e+20  5.3881e+252  5e+230  3e+05  4e-15\n",
      "62:  2.0777e+21  5.3881e+252  5e+230  5e+05  4e-15\n",
      "63:  8.2331e+21  5.3881e+252  5e+230  2e+06  4e-15\n",
      "64:  2.0661e+22  5.3881e+252  5e+230  5e+06  4e-15\n",
      "65:  8.1873e+22  5.3881e+252  5e+230  2e+07  4e-15\n",
      "66:  2.0546e+23  5.3881e+252  5e+230  5e+07  4e-15\n",
      "67:  8.1417e+23  5.3881e+252  5e+230  3e+08  4e-15\n",
      "68:  2.0432e+24  5.3881e+252  5e+230  5e+08  4e-15\n",
      "69:  8.0964e+24  5.3881e+252  5e+230  2e+09  6e-15\n",
      "70:  2.0318e+25  5.3881e+252  5e+230  5e+09  5e-15\n",
      "71:  8.0514e+25  5.3881e+252  5e+230  2e+10  5e-15\n",
      "72:  2.0205e+26  5.3881e+252  5e+230  4e+10  5e-15\n",
      "73:  8.0066e+26  5.3881e+252  5e+230  2e+11  4e-15\n",
      "74:  2.0093e+27  5.3881e+252  5e+230  2e+12  5e-15\n",
      "75:  7.9621e+27  5.3881e+252  5e+230  4e+12  6e-15\n",
      "76:  1.9981e+28  5.3881e+252  5e+230  6e+12  6e-15\n",
      "77:  7.9178e+28  5.3881e+252  5e+230  1e+13  5e-15\n",
      "78:  1.9870e+29  5.3881e+252  5e+230  5e+13  5e-15\n",
      "79:  7.8737e+29  5.3881e+252  5e+230  2e+14  7e-15\n",
      "80:  1.9759e+30  5.3881e+252  5e+230  1e+15  7e-15\n",
      "81:  7.8299e+30  5.3881e+252  5e+230  2e+15  7e-15\n",
      "82:  1.9649e+31  5.3881e+252  5e+230  7e+15  7e-15\n",
      "83:  7.7864e+31  5.3881e+252  5e+230  2e+16  6e-15\n",
      "84:  1.9540e+32  5.3881e+252  5e+230  5e+16  6e-15\n",
      "85:  7.7431e+32  5.3881e+252  5e+230  2e+17  7e-15\n",
      "86:  1.9431e+33  5.3881e+252  5e+230  1e+18  7e-15\n",
      "87:  7.7000e+33  5.3881e+252  5e+230  5e+18  7e-15\n",
      "88:  1.9323e+34  5.3881e+252  5e+230  1e+19  7e-15\n",
      "89:  7.6572e+34  5.3881e+252  5e+230  3e+19  8e-15\n",
      "90:  1.9216e+35  5.3881e+252  5e+230  7e+19  8e-15\n",
      "91:  7.6146e+35  5.3881e+252  5e+230  2e+20  8e-15\n",
      "92:  1.9109e+36  5.3881e+252  5e+230  6e+20  8e-15\n",
      "93:  7.5722e+36  5.3881e+252  5e+230  2e+21  8e-15\n",
      "94:  1.9002e+37  5.3881e+252  5e+230  8e+21  8e-15\n",
      "95:  7.5301e+37  5.3881e+252  5e+230  3e+22  7e-15\n",
      "96:  1.8897e+38  5.3881e+252  5e+230  8e+22  8e-15\n",
      "97:  7.4882e+38  5.3881e+252  5e+230  2e+23  8e-15\n",
      "98:  1.8792e+39  5.3881e+252  5e+230  1e+24  8e-15\n",
      "99:  7.4465e+39  5.3881e+252  5e+230  4e+24  9e-15\n",
      "100:  1.8687e+40  5.3881e+252  5e+230  5e+24  9e-15\n",
      "Terminated (maximum number of iterations reached).\n"
     ]
    },
    {
     "data": {
      "image/png": "[encoded data removed]",
      "text/plain": [
       "<Figure size 432x288 with 1 Axes>"
      ]
     },
     "metadata": {
      "needs_background": "light"
     },
     "output_type": "display_data"
    }
   ],
   "source": [
    "p, q, g, h, x = classify(samples, labels)\n",
    "c = ['red'] * 50 + ['blue'] * 50 + ['green'] * 50\n",
    "pylab.scatter(samples[:, 0], samples[:, 1], color=c)\n",
    "xlim = pylab.gca().get_xlim()\n",
    "ylim = pylab.gca().get_ylim()\n",
    "plot_line(x, xlim, ylim)\n",
    "pylab.show()"
   ]
  },
  {
   "cell_type": "code",
   "execution_count": 24,
   "metadata": {},
   "outputs": [
    {
     "ename": "TypeError",
     "evalue": "'int' object is not subscriptable",
     "output_type": "error",
     "traceback": [
      "\u001b[0;31m---------------------------------------------------------------------------\u001b[0m",
      "\u001b[0;31mTypeError\u001b[0m                                 Traceback (most recent call last)",
      "\u001b[0;32m<ipython-input-24-0bed92574762>\u001b[0m in \u001b[0;36m<module>\u001b[0;34m\u001b[0m\n\u001b[0;32m----> 1\u001b[0;31m \u001b[0mplot_line\u001b[0m\u001b[0;34m(\u001b[0m\u001b[0mx\u001b[0m\u001b[0;34m,\u001b[0m \u001b[0;36m10\u001b[0m\u001b[0;34m,\u001b[0m \u001b[0;36m10\u001b[0m\u001b[0;34m)\u001b[0m\u001b[0;34m\u001b[0m\u001b[0;34m\u001b[0m\u001b[0m\n\u001b[0m",
      "\u001b[0;32m<ipython-input-21-2ffa53abbfbc>\u001b[0m in \u001b[0;36mplot_line\u001b[0;34m(x, xlim, ylim)\u001b[0m\n\u001b[1;32m      1\u001b[0m \u001b[0;32mdef\u001b[0m \u001b[0mplot_line\u001b[0m\u001b[0;34m(\u001b[0m\u001b[0mx\u001b[0m\u001b[0;34m,\u001b[0m \u001b[0mxlim\u001b[0m\u001b[0;34m,\u001b[0m \u001b[0mylim\u001b[0m\u001b[0;34m)\u001b[0m\u001b[0;34m:\u001b[0m\u001b[0;34m\u001b[0m\u001b[0;34m\u001b[0m\u001b[0m\n\u001b[1;32m      2\u001b[0m \u001b[0;34m\u001b[0m\u001b[0m\n\u001b[0;32m----> 3\u001b[0;31m     \u001b[0mpt1\u001b[0m \u001b[0;34m=\u001b[0m \u001b[0;34m[\u001b[0m\u001b[0mxlim\u001b[0m\u001b[0;34m[\u001b[0m\u001b[0;36m0\u001b[0m\u001b[0;34m]\u001b[0m\u001b[0;34m,\u001b[0m\u001b[0mylim\u001b[0m\u001b[0;34m[\u001b[0m\u001b[0;36m0\u001b[0m\u001b[0;34m]\u001b[0m\u001b[0;34m]\u001b[0m\u001b[0;34m\u001b[0m\u001b[0;34m\u001b[0m\u001b[0m\n\u001b[0m\u001b[1;32m      4\u001b[0m     \u001b[0mpt2\u001b[0m \u001b[0;34m=\u001b[0m \u001b[0;34m[\u001b[0m\u001b[0mxlim\u001b[0m\u001b[0;34m[\u001b[0m\u001b[0;36m0\u001b[0m\u001b[0;34m]\u001b[0m\u001b[0;34m,\u001b[0m\u001b[0mylim\u001b[0m\u001b[0;34m[\u001b[0m\u001b[0;36m1\u001b[0m\u001b[0;34m]\u001b[0m\u001b[0;34m]\u001b[0m\u001b[0;34m\u001b[0m\u001b[0;34m\u001b[0m\u001b[0m\n\u001b[1;32m      5\u001b[0m     \u001b[0mpt3\u001b[0m \u001b[0;34m=\u001b[0m \u001b[0;34m[\u001b[0m\u001b[0mxlim\u001b[0m\u001b[0;34m[\u001b[0m\u001b[0;36m1\u001b[0m\u001b[0;34m]\u001b[0m\u001b[0;34m,\u001b[0m\u001b[0mylim\u001b[0m\u001b[0;34m[\u001b[0m\u001b[0;36m0\u001b[0m\u001b[0;34m]\u001b[0m\u001b[0;34m]\u001b[0m\u001b[0;34m\u001b[0m\u001b[0;34m\u001b[0m\u001b[0m\n",
      "\u001b[0;31mTypeError\u001b[0m: 'int' object is not subscriptable"
     ]
    }
   ],
   "source": [
    "plot_line(x, 10, 10)"
   ]
  },
  {
   "cell_type": "code",
   "execution_count": 25,
   "metadata": {},
   "outputs": [
    {
     "ename": "ValueError",
     "evalue": "too many values to unpack (expected 2)",
     "output_type": "error",
     "traceback": [
      "\u001b[0;31m---------------------------------------------------------------------------\u001b[0m",
      "\u001b[0;31mValueError\u001b[0m                                Traceback (most recent call last)",
      "\u001b[0;32m<ipython-input-25-bce65f173631>\u001b[0m in \u001b[0;36m<module>\u001b[0;34m\u001b[0m\n\u001b[0;32m----> 1\u001b[0;31m \u001b[0mplot_line\u001b[0m\u001b[0;34m(\u001b[0m\u001b[0mx\u001b[0m\u001b[0;34m,\u001b[0m \u001b[0mx\u001b[0m\u001b[0;34m,\u001b[0m \u001b[0mx\u001b[0m\u001b[0;34m)\u001b[0m\u001b[0;34m\u001b[0m\u001b[0;34m\u001b[0m\u001b[0m\n\u001b[0m",
      "\u001b[0;32m<ipython-input-21-2ffa53abbfbc>\u001b[0m in \u001b[0;36mplot_line\u001b[0;34m(x, xlim, ylim)\u001b[0m\n\u001b[1;32m     15\u001b[0m     \u001b[0mpylab\u001b[0m\u001b[0;34m.\u001b[0m\u001b[0mplot\u001b[0m\u001b[0;34m(\u001b[0m\u001b[0mx\u001b[0m\u001b[0;34m,\u001b[0m\u001b[0my\u001b[0m\u001b[0;34m)\u001b[0m\u001b[0;34m\u001b[0m\u001b[0;34m\u001b[0m\u001b[0m\n\u001b[1;32m     16\u001b[0m \u001b[0;34m\u001b[0m\u001b[0m\n\u001b[0;32m---> 17\u001b[0;31m     \u001b[0mpylab\u001b[0m\u001b[0;34m.\u001b[0m\u001b[0mgca\u001b[0m\u001b[0;34m(\u001b[0m\u001b[0;34m)\u001b[0m\u001b[0;34m.\u001b[0m\u001b[0mset_xlim\u001b[0m\u001b[0;34m(\u001b[0m\u001b[0mxlim\u001b[0m\u001b[0;34m)\u001b[0m\u001b[0;34m\u001b[0m\u001b[0;34m\u001b[0m\u001b[0m\n\u001b[0m\u001b[1;32m     18\u001b[0m     \u001b[0mpylab\u001b[0m\u001b[0;34m.\u001b[0m\u001b[0mgca\u001b[0m\u001b[0;34m(\u001b[0m\u001b[0;34m)\u001b[0m\u001b[0;34m.\u001b[0m\u001b[0mset_ylim\u001b[0m\u001b[0;34m(\u001b[0m\u001b[0mylim\u001b[0m\u001b[0;34m)\u001b[0m\u001b[0;34m\u001b[0m\u001b[0;34m\u001b[0m\u001b[0m\n",
      "\u001b[0;32m~/projects/code/python/ml-tasks/ml_env/lib/python3.7/site-packages/matplotlib/axes/_base.py\u001b[0m in \u001b[0;36mset_xlim\u001b[0;34m(self, left, right, emit, auto, xmin, xmax)\u001b[0m\n\u001b[1;32m   3228\u001b[0m         \"\"\"\n\u001b[1;32m   3229\u001b[0m         \u001b[0;32mif\u001b[0m \u001b[0mright\u001b[0m \u001b[0;32mis\u001b[0m \u001b[0;32mNone\u001b[0m \u001b[0;32mand\u001b[0m \u001b[0mnp\u001b[0m\u001b[0;34m.\u001b[0m\u001b[0miterable\u001b[0m\u001b[0;34m(\u001b[0m\u001b[0mleft\u001b[0m\u001b[0;34m)\u001b[0m\u001b[0;34m:\u001b[0m\u001b[0;34m\u001b[0m\u001b[0;34m\u001b[0m\u001b[0m\n\u001b[0;32m-> 3230\u001b[0;31m             \u001b[0mleft\u001b[0m\u001b[0;34m,\u001b[0m \u001b[0mright\u001b[0m \u001b[0;34m=\u001b[0m \u001b[0mleft\u001b[0m\u001b[0;34m\u001b[0m\u001b[0;34m\u001b[0m\u001b[0m\n\u001b[0m\u001b[1;32m   3231\u001b[0m         \u001b[0;32mif\u001b[0m \u001b[0mxmin\u001b[0m \u001b[0;32mis\u001b[0m \u001b[0;32mnot\u001b[0m \u001b[0;32mNone\u001b[0m\u001b[0;34m:\u001b[0m\u001b[0;34m\u001b[0m\u001b[0;34m\u001b[0m\u001b[0m\n\u001b[1;32m   3232\u001b[0m             \u001b[0;32mif\u001b[0m \u001b[0mleft\u001b[0m \u001b[0;32mis\u001b[0m \u001b[0;32mnot\u001b[0m \u001b[0;32mNone\u001b[0m\u001b[0;34m:\u001b[0m\u001b[0;34m\u001b[0m\u001b[0;34m\u001b[0m\u001b[0m\n",
      "\u001b[0;31mValueError\u001b[0m: too many values to unpack (expected 2)"
     ]
    },
    {
     "data": {
      "image/png": "[encoded data removed]",
      "text/plain": [
       "<Figure size 432x288 with 1 Axes>"
      ]
     },
     "metadata": {
      "needs_background": "light"
     },
     "output_type": "display_data"
    }
   ],
   "source": [
    "plot_line(x, x, x)"
   ]
  },
  {
   "cell_type": "code",
   "execution_count": 26,
   "metadata": {},
   "outputs": [],
   "source": [
    "import matplotlib.pyplot as plt"
   ]
  },
  {
   "cell_type": "code",
   "execution_count": 33,
   "metadata": {},
   "outputs": [
    {
     "ename": "ZeroDivisionError",
     "evalue": "division by zero",
     "output_type": "error",
     "traceback": [
      "\u001b[0;31m---------------------------------------------------------------------------\u001b[0m",
      "\u001b[0;31mZeroDivisionError\u001b[0m                         Traceback (most recent call last)",
      "\u001b[0;32m<ipython-input-33-1a0df733b210>\u001b[0m in \u001b[0;36m<module>\u001b[0;34m\u001b[0m\n\u001b[0;32m----> 1\u001b[0;31m \u001b[0mplt\u001b[0m\u001b[0;34m.\u001b[0m\u001b[0mplot\u001b[0m\u001b[0;34m(\u001b[0m\u001b[0mx\u001b[0m\u001b[0;34m,\u001b[0m \u001b[0;34m(\u001b[0m\u001b[0;34m-\u001b[0m\u001b[0mp\u001b[0m\u001b[0;34m[\u001b[0m\u001b[0;34m[\u001b[0m\u001b[0;36m0\u001b[0m\u001b[0;34m]\u001b[0m\u001b[0;34m,\u001b[0m\u001b[0;34m[\u001b[0m\u001b[0;36m0\u001b[0m\u001b[0;34m]\u001b[0m\u001b[0;34m]\u001b[0m\u001b[0;34m*\u001b[0m\u001b[0mx\u001b[0m\u001b[0;34m/\u001b[0m\u001b[0mq\u001b[0m\u001b[0;34m[\u001b[0m\u001b[0;34m[\u001b[0m\u001b[0;36m0\u001b[0m\u001b[0;34m]\u001b[0m\u001b[0;34m,\u001b[0m\u001b[0;34m[\u001b[0m\u001b[0;36m0\u001b[0m\u001b[0;34m]\u001b[0m\u001b[0;34m]\u001b[0m\u001b[0;34m)\u001b[0m \u001b[0;34m-\u001b[0m \u001b[0;34m(\u001b[0m\u001b[0mg\u001b[0m\u001b[0;34m[\u001b[0m\u001b[0;34m[\u001b[0m\u001b[0;36m0\u001b[0m\u001b[0;34m]\u001b[0m\u001b[0;34m,\u001b[0m\u001b[0;34m[\u001b[0m\u001b[0;36m0\u001b[0m\u001b[0;34m]\u001b[0m\u001b[0;34m]\u001b[0m \u001b[0;34m/\u001b[0m \u001b[0mq\u001b[0m\u001b[0;34m[\u001b[0m\u001b[0;34m[\u001b[0m\u001b[0;36m0\u001b[0m\u001b[0;34m]\u001b[0m\u001b[0;34m,\u001b[0m\u001b[0;34m[\u001b[0m\u001b[0;36m0\u001b[0m\u001b[0;34m]\u001b[0m\u001b[0;34m]\u001b[0m\u001b[0;34m)\u001b[0m\u001b[0;34m)\u001b[0m\u001b[0;34m\u001b[0m\u001b[0;34m\u001b[0m\u001b[0m\n\u001b[0m",
      "\u001b[0;31mZeroDivisionError\u001b[0m: division by zero"
     ]
    }
   ],
   "source": [
    "plt.plot(x, (-p[[0],[0]]*x/q[[0],[0]]) - (g[[0],[0]] / q[[0],[0]]))"
   ]
  },
  {
   "cell_type": "code",
   "execution_count": 34,
   "metadata": {},
   "outputs": [
    {
     "data": {
      "text/plain": [
       "<3x3 matrix, tc='d'>"
      ]
     },
     "execution_count": 34,
     "metadata": {},
     "output_type": "execute_result"
    }
   ],
   "source": [
    "p"
   ]
  },
  {
   "cell_type": "code",
   "execution_count": 35,
   "metadata": {},
   "outputs": [
    {
     "data": {
      "text/plain": [
       "'[ 1.00e+00  0.00e+00  0.00e+00]\\n[ 0.00e+00  1.00e+00  0.00e+00]\\n[ 0.00e+00  0.00e+00  0.00e+00]\\n'"
      ]
     },
     "execution_count": 35,
     "metadata": {},
     "output_type": "execute_result"
    }
   ],
   "source": [
    "str(p)"
   ]
  },
  {
   "cell_type": "code",
   "execution_count": 36,
   "metadata": {},
   "outputs": [
    {
     "data": {
      "text/plain": [
       "'[ 0.00e+00]\\n[ 0.00e+00]\\n[ 1.00e+00]\\n'"
      ]
     },
     "execution_count": 36,
     "metadata": {},
     "output_type": "execute_result"
    }
   ],
   "source": [
    "str(q)"
   ]
  },
  {
   "cell_type": "code",
   "execution_count": 37,
   "metadata": {},
   "outputs": [
    {
     "data": {
      "text/plain": [
       "'[-1.00e+00]\\n[-1.00e+00]\\n[-1.00e+00]\\n[-1.00e+00]\\n[-1.00e+00]\\n[-1.00e+00]\\n[-1.00e+00]\\n[-1.00e+00]\\n[-1.00e+00]\\n[-1.00e+00]\\n[-1.00e+00]\\n[-1.00e+00]\\n[-1.00e+00]\\n[-1.00e+00]\\n[-1.00e+00]\\n[-1.00e+00]\\n[-1.00e+00]\\n[-1.00e+00]\\n[-1.00e+00]\\n[-1.00e+00]\\n[-1.00e+00]\\n[-1.00e+00]\\n[-1.00e+00]\\n[-1.00e+00]\\n[-1.00e+00]\\n[-1.00e+00]\\n[-1.00e+00]\\n[-1.00e+00]\\n[-1.00e+00]\\n[-1.00e+00]\\n[-1.00e+00]\\n[-1.00e+00]\\n[-1.00e+00]\\n[-1.00e+00]\\n[-1.00e+00]\\n[-1.00e+00]\\n[-1.00e+00]\\n[-1.00e+00]\\n[-1.00e+00]\\n[-1.00e+00]\\n[-1.00e+00]\\n[-1.00e+00]\\n[-1.00e+00]\\n[-1.00e+00]\\n[-1.00e+00]\\n[-1.00e+00]\\n[-1.00e+00]\\n[-1.00e+00]\\n[-1.00e+00]\\n[-1.00e+00]\\n[-1.00e+00]\\n[-1.00e+00]\\n[-1.00e+00]\\n[-1.00e+00]\\n[-1.00e+00]\\n[-1.00e+00]\\n[-1.00e+00]\\n[-1.00e+00]\\n[-1.00e+00]\\n[-1.00e+00]\\n[-1.00e+00]\\n[-1.00e+00]\\n[-1.00e+00]\\n[-1.00e+00]\\n[-1.00e+00]\\n[-1.00e+00]\\n[-1.00e+00]\\n[-1.00e+00]\\n[-1.00e+00]\\n[-1.00e+00]\\n[-1.00e+00]\\n[-1.00e+00]\\n[-1.00e+00]\\n[-1.00e+00]\\n[-1.00e+00]\\n[-1.00e+00]\\n[-1.00e+00]\\n[-1.00e+00]\\n[-1.00e+00]\\n[-1.00e+00]\\n[-1.00e+00]\\n[-1.00e+00]\\n[-1.00e+00]\\n[-1.00e+00]\\n[-1.00e+00]\\n[-1.00e+00]\\n[-1.00e+00]\\n[-1.00e+00]\\n[-1.00e+00]\\n[-1.00e+00]\\n[-1.00e+00]\\n[-1.00e+00]\\n[-1.00e+00]\\n[-1.00e+00]\\n[-1.00e+00]\\n[-1.00e+00]\\n[-1.00e+00]\\n[-1.00e+00]\\n[-1.00e+00]\\n[-1.00e+00]\\n[-1.00e+00]\\n[-1.00e+00]\\n[-1.00e+00]\\n[-1.00e+00]\\n[-1.00e+00]\\n[-1.00e+00]\\n[-1.00e+00]\\n[-1.00e+00]\\n[-1.00e+00]\\n[-1.00e+00]\\n[-1.00e+00]\\n[-1.00e+00]\\n[-1.00e+00]\\n[-1.00e+00]\\n[-1.00e+00]\\n[-1.00e+00]\\n[-1.00e+00]\\n[-1.00e+00]\\n[-1.00e+00]\\n[-1.00e+00]\\n[-1.00e+00]\\n[-1.00e+00]\\n[-1.00e+00]\\n[-1.00e+00]\\n[-1.00e+00]\\n[-1.00e+00]\\n[-1.00e+00]\\n[-1.00e+00]\\n[-1.00e+00]\\n[-1.00e+00]\\n[-1.00e+00]\\n[-1.00e+00]\\n[-1.00e+00]\\n[-1.00e+00]\\n[-1.00e+00]\\n[-1.00e+00]\\n[-1.00e+00]\\n[-1.00e+00]\\n[-1.00e+00]\\n[-1.00e+00]\\n[-1.00e+00]\\n[-1.00e+00]\\n[-1.00e+00]\\n[-1.00e+00]\\n[-1.00e+00]\\n[-1.00e+00]\\n[-1.00e+00]\\n[-1.00e+00]\\n[-1.00e+00]\\n[-1.00e+00]\\n'"
      ]
     },
     "execution_count": 37,
     "metadata": {},
     "output_type": "execute_result"
    }
   ],
   "source": [
    "str(g)"
   ]
  },
  {
   "cell_type": "code",
   "execution_count": 38,
   "metadata": {},
   "outputs": [
    {
     "data": {
      "text/plain": [
       "[<matplotlib.lines.Line2D at 0x7ff51fc6e4a8>]"
      ]
     },
     "execution_count": 38,
     "metadata": {},
     "output_type": "execute_result"
    },
    {
     "data": {
      "image/png": "[encoded data removed]",
      "text/plain": [
       "<Figure size 432x288 with 1 Axes>"
      ]
     },
     "metadata": {
      "needs_background": "light"
     },
     "output_type": "display_data"
    }
   ],
   "source": [
    "plt.plot(x, -p[[0],[0]]*x - g[[0],[0]])"
   ]
  },
  {
   "cell_type": "code",
   "execution_count": 39,
   "metadata": {},
   "outputs": [
    {
     "data": {
      "text/plain": [
       "[<matplotlib.lines.Line2D at 0x7ff51fc2b588>]"
      ]
     },
     "execution_count": 39,
     "metadata": {},
     "output_type": "execute_result"
    },
    {
     "data": {
      "image/png": "[encoded data removed]",
      "text/plain": [
       "<Figure size 432x288 with 1 Axes>"
      ]
     },
     "metadata": {
      "needs_background": "light"
     },
     "output_type": "display_data"
    }
   ],
   "source": [
    "c = ['red'] * 50 + ['blue'] * 50 + ['green'] * 50\n",
    "pylab.scatter(samples[:, 0], samples[:, 1], color=c)\n",
    "plt.plot(x, -p[[0],[0]]*x - g[[0],[0]])"
   ]
  },
  {
   "cell_type": "code",
   "execution_count": null,
   "metadata": {},
   "outputs": [],
   "source": []
  }
 ],
 "metadata": {
  "kernelspec": {
   "display_name": "Python 3",
   "language": "python",
   "name": "python3"
  },
  "language_info": {
   "codemirror_mode": {
    "name": "ipython",
    "version": 3
   },
   "file_extension": ".py",
   "mimetype": "text/x-python",
   "name": "python",
   "nbconvert_exporter": "python",
   "pygments_lexer": "ipython3",
   "version": "3.7.3"
  }
 },
 "nbformat": 4,
 "nbformat_minor": 2
}
